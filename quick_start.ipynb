{
 "cells": [
  {
   "cell_type": "code",
   "execution_count": null,
   "metadata": {},
   "outputs": [
    {
     "name": "stdout",
     "output_type": "stream",
     "text": [
      "File downloaded to: /home/bopa/.cache/huggingface/hub/models--AchOk78--ftw2v_fr_healthcare_v1/snapshots/27664df9a59c29ac0c70981dc3eb15b7e8bc3edc/fr_w2v.pkl\n",
      "File downloaded to: /home/bopa/.cache/huggingface/hub/models--AchOk78--ftw2v_fr_healthcare_v1/snapshots/27664df9a59c29ac0c70981dc3eb15b7e8bc3edc/fr_w2v_fasttext.pkl\n"
     ]
    }
   ],
   "source": [
    "from huggingface_hub import hf_hub_download\n",
    "from ftw2v_modules.load_model_ftw2v import load_trained_w2v_models\n",
    "from ftw2v_modules.nlp_preprocessing import get_sentence_embedding\n",
    "\n",
    "\n",
    "repo_id = \"AchOk78/ftw2v_fr_healthcare_v1\"  \n",
    "filename_w2v = \"fr_w2v.pkl\"     \n",
    "filename_w2v_fasttext = \"fr_w2v_fasttext.pkl\"\n",
    "\n",
    "\n",
    "file_path_w2v = hf_hub_download(repo_id=repo_id, filename=filename_w2v)\n",
    "print(f\"File downloaded to: {file_path_w2v}\")\n",
    "\n",
    "file_path_w2v_fasttext = hf_hub_download(repo_id=repo_id, filename=filename_w2v_fasttext)\n",
    "print(f\"File downloaded to: {file_path_w2v_fasttext}\")\n",
    "\n",
    "\n",
    "\n",
    "res_w2v, res_fasttext, fast_text_embeddings = load_trained_w2v_models(file_path_w2v=file_path_w2v,\n",
    "                                                                      file_path_w2v_fasttext=file_path_w2v_fasttext)\n"
   ]
  },
  {
   "cell_type": "code",
   "execution_count": 4,
   "metadata": {},
   "outputs": [
    {
     "name": "stdout",
     "output_type": "stream",
     "text": [
      "TORCH NOT INSTALLED\n"
     ]
    },
    {
     "data": {
      "text/plain": [
       "array([-1.6379153 , -0.8167231 , -0.16050845, -0.8508134 , -0.8212018 ,\n",
       "       -0.9778509 ,  0.02406589,  0.9537294 ,  0.06805784, -0.3831013 ,\n",
       "        1.4928156 ,  1.6483449 , -0.75819963,  0.38270304, -0.03372347,\n",
       "        1.1759    ,  1.4550208 ,  0.48259285, -0.02436823,  0.25472167,\n",
       "        0.09728757,  0.24058466,  0.4584252 ,  0.24801342,  1.3011962 ,\n",
       "       -0.57797295, -0.23287928, -1.6096836 ,  0.4652531 , -1.1033683 ,\n",
       "        0.2338258 ,  1.5238506 , -1.6520215 , -0.5368964 , -0.685631  ,\n",
       "       -0.44432154,  0.02616592, -0.44123664, -1.6616753 ,  0.79090935,\n",
       "        0.46824995,  0.30448067, -0.12958758, -0.8494046 ,  0.61598915,\n",
       "        0.9039633 ,  0.7879866 , -2.120496  ,  1.8220581 ,  0.15732068,\n",
       "        0.7173889 , -1.2793225 ,  0.51369953,  1.5711881 , -0.6232449 ,\n",
       "        0.29064536,  0.9443036 ,  1.10772   ,  0.19827032, -0.46123302,\n",
       "       -1.565713  ,  1.2158662 , -1.2132677 , -0.46923324,  0.19612843,\n",
       "       -0.10654306, -0.7019839 , -1.1345215 ,  0.20297773,  1.0099277 ,\n",
       "       -1.5574112 , -0.86455315, -0.03794332, -0.15489766,  0.00759121,\n",
       "       -0.2774905 , -0.24783432, -0.11188678,  0.43486091, -0.15079546,\n",
       "       -2.0349865 , -1.1940387 ,  0.1649676 ,  1.0654877 ,  0.636102  ,\n",
       "       -0.5914361 , -0.4780415 ,  0.35280684, -0.75623226, -0.539129  ,\n",
       "       -0.4864734 , -0.10678738,  0.8381577 ,  0.5609646 ,  0.08844189,\n",
       "        1.886764  ,  0.00891328,  0.64679265,  1.5733637 , -0.2958449 ,\n",
       "        1.6661053 ,  0.72016525, -0.86054295,  0.30523396, -1.3111689 ,\n",
       "       -0.25587538,  0.59623265,  0.01114704, -0.6029386 ,  1.2893816 ,\n",
       "       -1.2503592 ,  0.13341434,  0.73787683, -0.00450634, -0.01578601,\n",
       "        0.904881  ,  1.2840947 ,  2.005498  , -0.6560609 , -0.82586366,\n",
       "        1.692871  ,  0.13392901,  1.6426612 ,  0.13007283, -1.2777519 ,\n",
       "        0.83378744, -1.3485886 ,  0.80672747,  0.09214962, -0.19886644,\n",
       "        0.15914945, -0.10504484, -1.0046117 ,  0.9056385 ,  0.33838475,\n",
       "        0.76971287,  0.12573066,  0.58844227,  0.08576638,  1.7870692 ,\n",
       "       -0.624635  ,  0.13055964,  0.1305896 , -0.2628558 , -0.3578217 ,\n",
       "       -0.9841897 ,  1.726821  ,  0.6016558 , -0.5544822 , -0.09739008,\n",
       "       -0.6288122 , -1.3629833 , -0.08353043, -0.2193265 ,  1.0081655 ,\n",
       "        1.1460533 , -0.991554  , -0.07759124, -1.2957894 , -1.1935142 ,\n",
       "       -0.3972565 ,  0.23873548, -0.3221582 ,  0.04314524,  0.00758294,\n",
       "       -1.1164913 , -0.09239092, -0.01425374, -0.39382443, -1.124986  ,\n",
       "       -1.5128955 , -0.03775012,  0.38668564, -0.15228087,  0.7196794 ,\n",
       "       -0.15008225, -0.680145  , -0.23244874, -0.85990787,  0.3696362 ,\n",
       "       -1.2961644 ,  0.42250362,  0.27053154, -0.60925716,  0.24991167,\n",
       "        0.16932178,  1.209889  , -1.1908785 , -1.1920991 ,  0.02132843,\n",
       "        0.69105655,  0.7486895 ,  0.8599522 , -0.69111735, -0.12261701,\n",
       "       -0.14632039,  0.19455242,  1.1014086 , -0.8894339 ,  1.5056967 ,\n",
       "       -0.24837749,  1.1668841 , -0.803606  , -0.2480613 ,  0.18130374,\n",
       "       -1.1549112 , -0.02404499, -1.5253667 , -0.5804803 ,  0.12761287,\n",
       "        1.2234746 , -1.1565987 ,  0.6679947 ,  0.48366937, -0.5621259 ,\n",
       "       -0.9596503 , -0.31644014, -0.0973989 ,  0.9619964 ,  0.6422343 ,\n",
       "        1.0595467 , -0.26012942,  0.08776657, -0.9037788 , -0.34657392,\n",
       "        0.24469863, -0.56545156,  0.4924046 ,  0.09063803,  0.19561891,\n",
       "       -0.12866892,  0.5545277 , -1.0203784 , -0.89756274, -0.31831655,\n",
       "        1.7875705 ,  0.00683824,  1.0544965 ,  1.0023836 ,  1.1966819 ,\n",
       "       -0.17897296,  1.1540054 , -0.06609278, -0.3252371 , -0.55056435,\n",
       "       -0.8969248 ,  0.07940813, -0.6407296 ,  0.5275778 ,  0.06729266,\n",
       "        0.287176  ,  0.6855511 ,  0.94900614,  0.11505815, -0.03415525,\n",
       "       -0.40373728, -1.6545749 ,  0.13313043, -0.09052189,  0.07248072,\n",
       "        0.9229727 ,  0.7517047 , -0.3284959 ,  0.6029449 , -0.7703731 ,\n",
       "       -1.4755138 ,  0.09317078,  0.6669564 ,  0.93740034, -0.21114536,\n",
       "       -2.0652428 , -0.9014742 ,  0.09687153, -0.17984565,  0.44377318,\n",
       "       -0.24304695, -0.7755284 , -0.4871622 , -0.17054804, -0.16895728,\n",
       "       -0.9695373 , -0.07958879, -0.7218693 , -0.320936  , -1.3775669 ,\n",
       "        0.78363776,  0.11642329,  0.06741858,  0.01688949,  0.6736891 ,\n",
       "       -0.16402453,  0.2657411 , -0.28589225,  0.63189316, -0.79062104,\n",
       "        1.0368104 , -0.26204735, -0.14175303,  0.02703367, -0.25585246],\n",
       "      dtype=float32)"
      ]
     },
     "execution_count": 4,
     "metadata": {},
     "output_type": "execute_result"
    }
   ],
   "source": [
    "sentence_ = \"Ceci est une phrase test !\"\n",
    "\n",
    "get_sentence_embedding(sentence=sentence_, res_w2v=res_w2v, res_fasttext=res_fasttext, fast_text_embeddings=fast_text_embeddings)"
   ]
  },
  {
   "cell_type": "code",
   "execution_count": 4,
   "metadata": {},
   "outputs": [
    {
     "name": "stdout",
     "output_type": "stream",
     "text": [
      "/home/bopa/miniconda3/lib/python3.12/site-packages/conda/base/context.py:202: FutureWarning: Adding 'defaults' to channel list implicitly is deprecated and will be removed in 25.3. \n",
      "\n",
      "To remove this warning, please choose a default channel explicitly with conda's regular configuration system, e.g. by adding 'defaults' to the list of channels:\n",
      "\n",
      "  conda config --add channels defaults\n",
      "\n",
      "For more information see https://docs.conda.io/projects/conda/en/stable/user-guide/configuration/use-condarc.html\n",
      "\n",
      "  deprecated.topic(\n"
     ]
    }
   ],
   "source": [
    "!conda env export -n env_ftw2v2kde --no-builds > environment.yml\n"
   ]
  },
  {
   "cell_type": "code",
   "execution_count": null,
   "metadata": {},
   "outputs": [],
   "source": []
  }
 ],
 "metadata": {
  "kernelspec": {
   "display_name": "env_ftw2v2kde",
   "language": "python",
   "name": "python3"
  },
  "language_info": {
   "codemirror_mode": {
    "name": "ipython",
    "version": 3
   },
   "file_extension": ".py",
   "mimetype": "text/x-python",
   "name": "python",
   "nbconvert_exporter": "python",
   "pygments_lexer": "ipython3",
   "version": "3.12.2"
  }
 },
 "nbformat": 4,
 "nbformat_minor": 2
}
